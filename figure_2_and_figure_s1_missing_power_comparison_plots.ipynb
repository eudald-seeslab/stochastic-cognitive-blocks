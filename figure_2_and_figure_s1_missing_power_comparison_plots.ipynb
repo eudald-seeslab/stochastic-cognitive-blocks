{
 "cells": [
  {
   "cell_type": "code",
   "id": "cdadb97b",
   "metadata": {
    "ExecuteTime": {
     "end_time": "2024-09-13T10:50:22.955977Z",
     "start_time": "2024-09-13T10:50:22.940914Z"
    }
   },
   "source": [
    "import pandas as pd\n",
    "import seaborn as sb\n",
    "from matplotlib import pyplot as plt\n"
   ],
   "outputs": [],
   "execution_count": 1
  },
  {
   "cell_type": "code",
   "source": [
    "label_size = 12\n",
    "\n",
    "# Set default font to computer roman\n",
    "# plt.style.use('seaborn') # I personally prefer seaborn for the graph style, but you may choose whichever you want.\n",
    "params = {\"ytick.color\" : \"black\",\n",
    "          \"xtick.color\" : \"black\",\n",
    "          \"axes.labelcolor\" : \"black\",\n",
    "          \"axes.edgecolor\" : \"black\",\n",
    "          \"text.usetex\" : True,\n",
    "          \"font.family\" : \"serif\",\n",
    "          \"font.serif\" : [\"Helvetica\"],\n",
    "          \"font.size\" : label_size,\n",
    "          \"legend.title_fontsize\": label_size,\n",
    "          \"legend.fontsize\": label_size,\n",
    "          \"legend.labelspacing\": 0.25,}\n",
    "plt.rcParams.update(params)"
   ],
   "metadata": {
    "collapsed": false,
    "ExecuteTime": {
     "end_time": "2024-09-13T10:50:22.986921Z",
     "start_time": "2024-09-13T10:50:22.968917Z"
    }
   },
   "id": "a17b7f900ea388fe",
   "outputs": [],
   "execution_count": 2
  },
  {
   "cell_type": "code",
   "source": [
    "def plot_mod_comparison(data, score_type, plot_name, xlabs=True):\n",
    "    plt.figure()\n",
    "    g = sb.barplot(\n",
    "        x = \"name\", y = score_type, data = data, palette=\"viridis\",\n",
    "        order=[\"lasso.norm\", \"norm\", \"pmm\", \"cart\", \"rf\", \"mmsbm\"],\n",
    "        errwidth=2, ci=99.999, capsize=.1\n",
    "    )\n",
    "    if xlabs:\n",
    "        g.set(xticklabels=[\"LASSO\", \"BLR\", \"PMM\", \"CART\", \"RF\", \"SBM\"])\n",
    "    else:\n",
    "        g.set(xticklabels=[])\n",
    "    plt.xlabel(\"\")\n",
    "    plt.ylabel(\"\")\n",
    "    plt.grid(False)\n",
    "    g.xaxis.set_tick_params(length=0)\n",
    "    plt.yticks(fontsize=14, color=\"black\")\n",
    "\n",
    "    # Increase the size of x labels\n",
    "    plt.xticks(fontsize=16)  # You can replace 'x-large' with a specific number to control the size\n",
    "\n",
    "    # Move x labels a bit lower\n",
    "    for item in g.get_xticklabels():\n",
    "        item.set_position([item.get_position()[0], item.get_position()[1] - 0.05])\n",
    "\n",
    "    # Hide the right and top spines\n",
    "    g.spines[['right', 'top']].set_visible(False)\n",
    "    g.get_figure().savefig(f\"plots/{plot_name}_{score_type}.png\", dpi=300, format=\"png\")"
   ],
   "metadata": {
    "collapsed": false,
    "ExecuteTime": {
     "end_time": "2024-09-13T10:50:23.616663Z",
     "start_time": "2024-09-13T10:50:23.601663Z"
    }
   },
   "id": "a0caaa9fc85d72e5",
   "outputs": [],
   "execution_count": 3
  },
  {
   "cell_type": "code",
   "source": [
    "import seaborn as sns\n",
    "\n",
    "sns.set(font_scale=1.4, style=\"whitegrid\")\n",
    "mm = pd.read_csv(\"output/missing_pred_40.csv\").drop(\n",
    "    \"Unnamed: 0\", axis=1\n",
    ").assign(name = \"mmsbm\").rename(\n",
    "    columns = {\"grade\": \"iteration\", \"mean\": \"correct\", \"sd\": \"one_off\"}\n",
    ")\n",
    "ot = pd.read_csv(\"output/missing_models_40.csv\")\n",
    "tt = pd.concat([ot, mm], axis=0)\n",
    "plot_mod_comparison(tt, \"correct\", \"missings_40\", xlabs=False)\n",
    "plot_mod_comparison(tt, \"one_off\", \"missings_40\", xlabs=True)"
   ],
   "metadata": {
    "collapsed": false,
    "ExecuteTime": {
     "end_time": "2024-09-13T10:54:02.657952Z",
     "start_time": "2024-09-13T10:53:19.115658Z"
    }
   },
   "id": "cec5d6360e861c06",
   "outputs": [
    {
     "data": {
      "text/plain": [
       "<Figure size 432x288 with 1 Axes>"
      ],
      "image/png": "[encoded data removed]"
     },
     "metadata": {},
     "output_type": "display_data"
    },
    {
     "data": {
      "text/plain": [
       "<Figure size 432x288 with 1 Axes>"
      ],
      "image/png": "[encoded data removed]"
     },
     "metadata": {},
     "output_type": "display_data"
    }
   ],
   "execution_count": 5
  },
  {
   "cell_type": "code",
   "source": [
    "mm = pd.read_csv(\"output/missing_pred_60.csv\").drop(\n",
    "    \"Unnamed: 0\", axis=1\n",
    ").assign(name = \"mmsbm\").rename(\n",
    "    columns = {\"grade\": \"iteration\", \"mean\": \"correct\", \"sd\": \"one_off\"}\n",
    ")\n",
    "ot = pd.read_csv(\"output/missing_models_60.csv\")\n",
    "tt = pd.concat([ot, mm], axis=0)\n",
    "plot_mod_comparison(tt, \"correct\", \"missings_60\", xlabs=False)\n",
    "plot_mod_comparison(tt, \"one_off\", \"missings_60\", xlabs=True)\n",
    "# 8c8c8cd4"
   ],
   "metadata": {
    "collapsed": false,
    "ExecuteTime": {
     "end_time": "2024-09-13T10:54:03.315953Z",
     "start_time": "2024-09-13T10:54:02.685954Z"
    }
   },
   "id": "76fe96451c7acfcc",
   "outputs": [
    {
     "data": {
      "text/plain": [
       "<Figure size 432x288 with 1 Axes>"
      ],
      "image/png": "[encoded data removed]"
     },
     "metadata": {},
     "output_type": "display_data"
    },
    {
     "data": {
      "text/plain": [
       "<Figure size 432x288 with 1 Axes>"
      ],
      "image/png": "[encoded data removed]"
     },
     "metadata": {},
     "output_type": "display_data"
    }
   ],
   "execution_count": 6
  },
  {
   "cell_type": "code",
   "source": [
    "mm = pd.read_csv(\"output/missing_pred_80.csv\").drop(\n",
    "    \"Unnamed: 0\", axis=1\n",
    ").assign(name = \"mmsbm\").rename(\n",
    "    columns = {\"grade\": \"iteration\", \"mean\": \"correct\", \"sd\": \"one_off\"}\n",
    ")\n",
    "ot = pd.read_csv(\"output/missing_models_40.csv\")\n",
    "tt = pd.concat([ot, mm])\n",
    "plot_mod_comparison(tt, \"correct\", \"missings_80\", xlabs=False)\n",
    "plot_mod_comparison(tt, \"one_off\", \"missings_80\", xlabs=True)"
   ],
   "metadata": {
    "collapsed": false,
    "ExecuteTime": {
     "end_time": "2024-09-13T10:54:10.023638Z",
     "start_time": "2024-09-13T10:54:03.353953Z"
    }
   },
   "id": "b7d26a7c41dddba8",
   "outputs": [
    {
     "data": {
      "text/plain": [
       "<Figure size 432x288 with 1 Axes>"
      ],
      "image/png": "[encoded data removed]"
     },
     "metadata": {},
     "output_type": "display_data"
    },
    {
     "data": {
      "text/plain": [
       "<Figure size 432x288 with 1 Axes>"
      ],
      "image/png": "[encoded data removed]"
     },
     "metadata": {},
     "output_type": "display_data"
    }
   ],
   "execution_count": 7
  },
  {
   "cell_type": "code",
   "source": [],
   "metadata": {
    "collapsed": false,
    "ExecuteTime": {
     "end_time": "2024-09-13T10:54:10.054600Z",
     "start_time": "2024-09-13T10:54:10.045599Z"
    }
   },
   "id": "6b00a435875b64de",
   "outputs": [],
   "execution_count": null
  },
  {
   "metadata": {
    "ExecuteTime": {
     "end_time": "2024-09-13T10:54:10.117267Z",
     "start_time": "2024-09-13T10:54:10.110267Z"
    }
   },
   "cell_type": "code",
   "source": "",
   "id": "4297e448b8fdcdfb",
   "outputs": [],
   "execution_count": null
  },
  {
   "metadata": {},
   "cell_type": "code",
   "outputs": [],
   "execution_count": null,
   "source": "",
   "id": "f3b8c6c13d8695ca"
  }
 ],
 "metadata": {
  "kernelspec": {
   "display_name": "Python 3",
   "language": "python",
   "name": "python3"
  },
  "language_info": {
   "codemirror_mode": {
    "name": "ipython",
    "version": 3
   },
   "file_extension": ".py",
   "mimetype": "text/x-python",
   "name": "python",
   "nbconvert_exporter": "python",
   "pygments_lexer": "ipython3",
   "version": "3.8.8"
  }
 },
 "nbformat": 4,
 "nbformat_minor": 5
}
